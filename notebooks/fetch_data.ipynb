{
 "cells": [
  {
   "cell_type": "code",
   "execution_count": 3,
   "id": "605475b8",
   "metadata": {},
   "outputs": [
    {
     "name": "stderr",
     "output_type": "stream",
     "text": [
      "[*********************100%***********************]  1 of 1 completed\n",
      "\n",
      "1 Failed download:\n",
      "['AAPL']: YFRateLimitError('Too Many Requests. Rate limited. Try after a while.')\n",
      "[*********************100%***********************]  1 of 1 completed\n",
      "\n",
      "1 Failed download:\n",
      "['^GDAXI']: YFRateLimitError('Too Many Requests. Rate limited. Try after a while.')\n"
     ]
    },
    {
     "name": "stdout",
     "output_type": "stream",
     "text": [
      "Apple-Daten:\n",
      " Empty DataFrame\n",
      "Columns: [(Adj Close, AAPL), (Close, AAPL), (High, AAPL), (Low, AAPL), (Open, AAPL), (Volume, AAPL)]\n",
      "Index: []\n",
      "\n",
      "DAX-Daten:\n",
      " Empty DataFrame\n",
      "Columns: [(Adj Close, ^GDAXI), (Close, ^GDAXI), (High, ^GDAXI), (Low, ^GDAXI), (Open, ^GDAXI), (Volume, ^GDAXI)]\n",
      "Index: []\n",
      "/Users/tillo/Repositorys/stock-price-rnn/data\n"
     ]
    }
   ],
   "source": [
    "from dotenv import load_dotenv\n",
    "import os\n",
    "import requests\n",
    "\n",
    "# .env-Datei laden\n",
    "load_dotenv()\n",
    "\n",
    "# Zugriff auf Variablen\n",
    "api_key = os.getenv(\"API_KEY\")\n",
    "db_user = os.getenv(\"DB_USER\")\n",
    "debug_mode = os.getenv(\"DEBUG\") == \"true\"\n",
    "\n",
    "### I dont actually need the above, only required if an api would be deployed, we make the easy way with yahoo finances  ### \n",
    "\n",
    "import yfinance as yf\n",
    "\n",
    "# Path to the neighboring 'data' folder in the local repository\n",
    "data_path = os.path.abspath(os.path.join(os.getcwd(), '..', 'data'))\n",
    "\n",
    "\n",
    "# Ticker für Apple und den DAX\n",
    "apple_ticker = 'AAPL'\n",
    "dax_ticker = '^GDAXI'  # DAX-Index auf Yahoo Finance\n",
    "\n",
    "# Abrufen der historischen Daten (z. B. der letzten 5 Jahre)\n",
    "apple_data = yf.download(apple_ticker, start='2020-01-01', end='2025-01-01')\n",
    "dax_data = yf.download(dax_ticker, start='2020-01-01', end='2025-01-01')\n",
    "\n",
    "# Ausgabe der ersten 5 Zeilen der heruntergeladenen Daten\n",
    "print(\"Apple-Daten:\\n\", apple_data.head())\n",
    "print(\"\\nDAX-Daten:\\n\", dax_data.head())\n",
    "\n",
    "\n",
    "print(data_path)\n",
    "# Optional: Speichern der Daten in CSV-Dateien\n",
    "apple_data.to_csv(data_path + '/' + 'apple_stock_data.csv')\n",
    "dax_data.to_csv(data_path + '/' + 'dax_stock_data.csv')\n",
    "\n",
    "\n",
    "\n",
    "\n",
    "\n",
    "\n",
    "\n",
    "\n"
   ]
  },
  {
   "cell_type": "code",
   "execution_count": null,
   "id": "705ba085",
   "metadata": {},
   "outputs": [],
   "source": []
  }
 ],
 "metadata": {
  "kernelspec": {
   "display_name": "DS",
   "language": "python",
   "name": "python3"
  },
  "language_info": {
   "codemirror_mode": {
    "name": "ipython",
    "version": 3
   },
   "file_extension": ".py",
   "mimetype": "text/x-python",
   "name": "python",
   "nbconvert_exporter": "python",
   "pygments_lexer": "ipython3",
   "version": "3.11.11"
  }
 },
 "nbformat": 4,
 "nbformat_minor": 5
}
