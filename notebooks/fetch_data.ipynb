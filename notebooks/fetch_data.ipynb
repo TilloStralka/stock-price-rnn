{
 "cells": [
  {
   "cell_type": "code",
   "execution_count": 5,
   "id": "605475b8",
   "metadata": {},
   "outputs": [],
   "source": [
    "# Import required libs, only .env lib, request for loading of data with api and os for moving within folder \n",
    "\n",
    "from dotenv import load_dotenv\n",
    "from pathlib import Path\n",
    "import os\n",
    "import requests\n",
    "import time \n",
    "\n",
    "# For saving it as a csv file \n",
    "import pandas as pd "
   ]
  },
  {
   "cell_type": "code",
   "execution_count": 6,
   "id": "6584a889",
   "metadata": {},
   "outputs": [],
   "source": [
    "# Clairify path to .env for api key \n",
    "dotenv_path = Path('..') / '.env'\n"
   ]
  },
  {
   "cell_type": "code",
   "execution_count": 7,
   "id": "adeae0bb",
   "metadata": {},
   "outputs": [],
   "source": [
    "# .env-Datei laden\n",
    "load_dotenv()\n",
    "\n",
    "# Zugriff auf Variablen\n",
    "api_key = os.getenv(\"API_KEY\")\n",
    "db_user = os.getenv(\"DB_USER\")\n",
    "debug_mode = os.getenv(\"DEBUG\") == \"true\"\n"
   ]
  },
  {
   "cell_type": "code",
   "execution_count": 8,
   "id": "066f6bbb",
   "metadata": {},
   "outputs": [
    {
     "name": "stdout",
     "output_type": "stream",
     "text": [
      "Saved data for AAPL to /Users/tillo/Repositorys/stock-price-rnn/data/raw/AAPL_last_1000_days.csv\n",
      "Saved data for MSFT to /Users/tillo/Repositorys/stock-price-rnn/data/raw/MSFT_last_1000_days.csv\n",
      "Saved data for GOOGL to /Users/tillo/Repositorys/stock-price-rnn/data/raw/GOOGL_last_1000_days.csv\n",
      "Saved data for MBG.DEX to /Users/tillo/Repositorys/stock-price-rnn/data/raw/MBG.DEX_last_1000_days.csv\n"
     ]
    }
   ],
   "source": [
    "\n",
    "def fetch_and_save_stock_data(symbol: str, apikey: str, output_dir: Path, days: int = 1000):\n",
    "    \"\"\"\n",
    "    Fetches the daily time series for a given stock symbol and saves the last N days to CSV.\n",
    "\n",
    "    Parameters:\n",
    "    - symbol: Stock ticker symbol (e.g. 'AAPL', 'MSFT', 'MBG.DEX')\n",
    "    - apikey: Your Alpha Vantage API key\n",
    "    - output_dir: Path object to the directory where the CSV will be saved\n",
    "    - days: Number of most recent days to keep (default: 1000)\n",
    "    \"\"\"\n",
    "    url = f\"https://www.alphavantage.co/query?function=TIME_SERIES_DAILY&symbol={symbol}&outputsize=full&apikey={apikey}\"\n",
    "    response = requests.get(url)\n",
    "    data = response.json()\n",
    "\n",
    "    if \"Time Series (Daily)\" not in data:\n",
    "        print(f\"Error fetching data for {symbol}: {data.get('Note') or data.get('Error Message') or 'Unknown error'}\")\n",
    "        return\n",
    "\n",
    "    # Parse and format the data\n",
    "    timeseries = data[\"Time Series (Daily)\"]\n",
    "    df = pd.DataFrame.from_dict(timeseries, orient='index')\n",
    "    df.index = pd.to_datetime(df.index)\n",
    "    df.sort_index(inplace=True)\n",
    "    df.columns = [\"open\", \"high\", \"low\", \"close\", \"volume\"]\n",
    "    df_last_n = df.tail(days)\n",
    "\n",
    "    # Save to CSV\n",
    "    output_dir.mkdir(parents=True, exist_ok=True)\n",
    "    csv_path = output_dir / f\"{symbol}_last_{days}_days.csv\"\n",
    "    df_last_n.to_csv(csv_path)\n",
    "    print(f\"Saved data for {symbol} to {csv_path}\")\n",
    "\n",
    "def fetch_multiple_stocks(symbols: list, apikey: str, output_dir: Path, days: int = 1000):\n",
    "    for symbol in symbols:\n",
    "        fetch_and_save_stock_data(symbol, apikey, output_dir, days)\n",
    "        time.sleep(12)  # To respect Alpha Vantage free-tier rate limits (5 calls per minute)\n",
    "\n",
    "# Example usage\n",
    "if __name__ == \"__main__\":\n",
    "    api_key = \"your_api_key\"  # Replace with your real API key\n",
    "    stock_list = [\"AAPL\", \"MSFT\", \"GOOGL\", \"MBG.DEX\"]  # Add your own symbols\n",
    "    data_folder = Path.cwd().parent / \"data\" / \"raw\"\n",
    "\n",
    "    fetch_multiple_stocks(stock_list, api_key, data_folder)\n",
    "\n",
    "\n",
    "\n"
   ]
  }
 ],
 "metadata": {
  "kernelspec": {
   "display_name": "DS",
   "language": "python",
   "name": "python3"
  },
  "language_info": {
   "codemirror_mode": {
    "name": "ipython",
    "version": 3
   },
   "file_extension": ".py",
   "mimetype": "text/x-python",
   "name": "python",
   "nbconvert_exporter": "python",
   "pygments_lexer": "ipython3",
   "version": "3.11.11"
  }
 },
 "nbformat": 4,
 "nbformat_minor": 5
}
