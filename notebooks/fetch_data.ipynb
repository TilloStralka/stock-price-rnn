{
 "cells": [
  {
   "cell_type": "code",
   "execution_count": null,
   "id": "605475b8",
   "metadata": {},
   "outputs": [],
   "source": [
    "import requests\n",
    "\n",
    "def get_stock_price(symbol, currency=\"USD\", api_key=\"DEIN_API_KEY\"):\n",
    "    url = \"https://api.bavest.co/v0/quote\"\n",
    "    payload = {\n",
    "        \"symbol\": symbol,\n",
    "        \"currency\": currency\n",
    "    }\n",
    "    headers = {\n",
    "        \"accept\": \"application/json\",\n",
    "        \"content-type\": \"application/json\",\n",
    "        \"x-api-key\": api_key\n",
    "    }\n",
    "    response = requests.post(url, json=payload, headers=headers)\n",
    "    if response.status_code == 200:\n",
    "        data = response.json()\n",
    "        # Aktueller Kurs\n",
    "        current_price = data.get(\"last_price\")\n",
    "        # Historische Tagespreise (z.B. für die letzten 30 Tage)\n",
    "        historical = data.get(\"historical_price\", {}).get(\"day\", [])\n",
    "        print(f\"{symbol} aktueller Kurs: {current_price} {currency}\")\n",
    "        print(f\"{symbol} historische Tagespreise (letzte 5):\")\n",
    "        for entry in historical[-5:]:\n",
    "            print(entry)  # enthält z.B. Datum, Preis, Volumen usw.\n",
    "    else:\n",
    "        print(f\"Fehler für {symbol}: {response.status_code} - {response.text}\")\n",
    "\n",
    "api_key = \"DEIN_API_KEY\"  # Ersetze durch deinen eigenen API-Key\n",
    "\n",
    "for symbol in [\"AAPL\", \"MSFT\", \"TSLA\"]:\n",
    "    get_stock_price(symbol, currency=\"USD\", api_key=api_key)\n",
    "\n",
    "\n",
    "\n",
    "\n",
    "\n",
    "from dotenv import load_dotenv\n",
    "import os\n",
    "\n",
    "# .env-Datei laden\n",
    "load_dotenv()\n",
    "\n",
    "# Zugriff auf Variablen\n",
    "api_key = os.getenv(\"API_KEY\")\n",
    "db_user = os.getenv(\"DB_USER\")\n",
    "debug_mode = os.getenv(\"DEBUG\") == \"true\""
   ]
  }
 ],
 "metadata": {
  "kernelspec": {
   "display_name": "DS",
   "language": "python",
   "name": "python3"
  },
  "language_info": {
   "name": "python",
   "version": "3.11.11"
  }
 },
 "nbformat": 4,
 "nbformat_minor": 5
}
